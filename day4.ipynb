{
  "nbformat": 4,
  "nbformat_minor": 0,
  "metadata": {
    "colab": {
      "name": "day4.ipynb",
      "provenance": [],
      "collapsed_sections": [],
      "mount_file_id": "1zmBTg8TIy4HVOEYrixFG-pMDIb6Da7YS",
      "authorship_tag": "ABX9TyOELBrnQN8RP/SjNIoz9WNZ",
      "include_colab_link": true
    },
    "kernelspec": {
      "name": "python3",
      "display_name": "Python 3"
    }
  },
  "cells": [
    {
      "cell_type": "markdown",
      "metadata": {
        "id": "view-in-github",
        "colab_type": "text"
      },
      "source": [
        "<a href=\"https://colab.research.google.com/github/arfild/dw_matrix_car/blob/master/day4.ipynb\" target=\"_parent\"><img src=\"https://colab.research.google.com/assets/colab-badge.svg\" alt=\"Open In Colab\"/></a>"
      ]
    },
    {
      "cell_type": "code",
      "metadata": {
        "id": "3KVuO92OkCKg",
        "colab_type": "code",
        "outputId": "954a32e3-bd3e-46ca-cb06-d4d4aff07205",
        "colab": {
          "base_uri": "https://localhost:8080/",
          "height": 445
        }
      },
      "source": [
        "!pip install --upgrade tables\n",
        "!pip install eli5\n",
        "!pip install xgboost"
      ],
      "execution_count": 0,
      "outputs": [
        {
          "output_type": "stream",
          "text": [
            "Collecting tables\n",
            "\u001b[?25l  Downloading https://files.pythonhosted.org/packages/ed/c3/8fd9e3bb21872f9d69eb93b3014c86479864cca94e625fd03713ccacec80/tables-3.6.1-cp36-cp36m-manylinux1_x86_64.whl (4.3MB)\n",
            "\u001b[K     |████████████████████████████████| 4.3MB 2.8MB/s \n",
            "\u001b[?25hRequirement already satisfied, skipping upgrade: numpy>=1.9.3 in /usr/local/lib/python3.6/dist-packages (from tables) (1.17.5)\n",
            "Requirement already satisfied, skipping upgrade: numexpr>=2.6.2 in /usr/local/lib/python3.6/dist-packages (from tables) (2.7.1)\n",
            "Installing collected packages: tables\n",
            "  Found existing installation: tables 3.4.4\n",
            "    Uninstalling tables-3.4.4:\n",
            "      Successfully uninstalled tables-3.4.4\n",
            "Successfully installed tables-3.6.1\n",
            "Requirement already satisfied: eli5 in /usr/local/lib/python3.6/dist-packages (0.10.1)\n",
            "Requirement already satisfied: jinja2 in /usr/local/lib/python3.6/dist-packages (from eli5) (2.11.1)\n",
            "Requirement already satisfied: scikit-learn>=0.18 in /usr/local/lib/python3.6/dist-packages (from eli5) (0.22.2)\n",
            "Requirement already satisfied: attrs>16.0.0 in /usr/local/lib/python3.6/dist-packages (from eli5) (19.3.0)\n",
            "Requirement already satisfied: scipy in /usr/local/lib/python3.6/dist-packages (from eli5) (1.4.1)\n",
            "Requirement already satisfied: tabulate>=0.7.7 in /usr/local/lib/python3.6/dist-packages (from eli5) (0.8.6)\n",
            "Requirement already satisfied: graphviz in /usr/local/lib/python3.6/dist-packages (from eli5) (0.10.1)\n",
            "Requirement already satisfied: numpy>=1.9.0 in /usr/local/lib/python3.6/dist-packages (from eli5) (1.17.5)\n",
            "Requirement already satisfied: six in /usr/local/lib/python3.6/dist-packages (from eli5) (1.12.0)\n",
            "Requirement already satisfied: MarkupSafe>=0.23 in /usr/local/lib/python3.6/dist-packages (from jinja2->eli5) (1.1.1)\n",
            "Requirement already satisfied: joblib>=0.11 in /usr/local/lib/python3.6/dist-packages (from scikit-learn>=0.18->eli5) (0.14.1)\n",
            "Requirement already satisfied: xgboost in /usr/local/lib/python3.6/dist-packages (0.90)\n",
            "Requirement already satisfied: scipy in /usr/local/lib/python3.6/dist-packages (from xgboost) (1.4.1)\n",
            "Requirement already satisfied: numpy in /usr/local/lib/python3.6/dist-packages (from xgboost) (1.17.5)\n"
          ],
          "name": "stdout"
        }
      ]
    },
    {
      "cell_type": "code",
      "metadata": {
        "id": "JBP8g0xdkdMW",
        "colab_type": "code",
        "colab": {}
      },
      "source": [
        "import pandas as pd\n",
        "import numpy as np\n",
        "\n",
        "from sklearn.dummy import DummyRegressor\n",
        "from sklearn.tree import DecisionTreeRegressor\n",
        "from sklearn.ensemble import RandomForestRegressor\n",
        "\n",
        "import xgboost as xgb\n",
        "\n",
        "from sklearn.metrics import mean_absolute_error as mae\n",
        "from sklearn.model_selection import cross_val_score, KFold\n",
        "\n",
        "import eli5\n",
        "from eli5.sklearn import PermutationImportance"
      ],
      "execution_count": 0,
      "outputs": []
    },
    {
      "cell_type": "code",
      "metadata": {
        "id": "Wen5TS5Il_-o",
        "colab_type": "code",
        "outputId": "5f0c1d18-20a9-4762-ef91-ebe71396eecc",
        "colab": {
          "base_uri": "https://localhost:8080/",
          "height": 34
        }
      },
      "source": [
        "cd \"/content/drive/My Drive/Colab Notebooks/matrix/matrix_two/dw_matrix_car\""
      ],
      "execution_count": 0,
      "outputs": [
        {
          "output_type": "stream",
          "text": [
            "/content/drive/My Drive/Colab Notebooks/matrix/matrix_two/dw_matrix_car\n"
          ],
          "name": "stdout"
        }
      ]
    },
    {
      "cell_type": "code",
      "metadata": {
        "id": "BVDAAv_dmTR6",
        "colab_type": "code",
        "outputId": "b1aaf732-8d24-4c57-deb9-c4ed33243ecb",
        "colab": {
          "base_uri": "https://localhost:8080/",
          "height": 34
        }
      },
      "source": [
        "df = pd.read_hdf('data/car.h5')\n",
        "df.shape"
      ],
      "execution_count": 0,
      "outputs": [
        {
          "output_type": "execute_result",
          "data": {
            "text/plain": [
              "(106494, 155)"
            ]
          },
          "metadata": {
            "tags": []
          },
          "execution_count": 8
        }
      ]
    },
    {
      "cell_type": "markdown",
      "metadata": {
        "id": "MoE7rm-NnMBH",
        "colab_type": "text"
      },
      "source": [
        "## Feature Engineering"
      ]
    },
    {
      "cell_type": "code",
      "metadata": {
        "id": "YiwKuJevnFKY",
        "colab_type": "code",
        "colab": {}
      },
      "source": [
        "SUFFIX_CAT = '__cat'\n",
        "\n",
        "for feat in df.columns:\n",
        "  if isinstance(df[feat][0], list): continue\n",
        "\n",
        "  factorized_values = df[feat].factorize()[0]\n",
        "  if SUFFIX_CAT in feat:\n",
        "    df[feat] = factorized_values\n",
        "  else:\n",
        "    df[feat + SUFFIX_CAT] = factorized_values"
      ],
      "execution_count": 0,
      "outputs": []
    },
    {
      "cell_type": "code",
      "metadata": {
        "id": "PD8GZisyohJ2",
        "colab_type": "code",
        "outputId": "19436bc0-224d-4c6d-ba7e-8275ac29bf94",
        "colab": {
          "base_uri": "https://localhost:8080/",
          "height": 34
        }
      },
      "source": [
        "cat_feats = [x for x in df.columns if SUFFIX_CAT in x]\n",
        "cat_feats = [x for x in cat_feats if 'price' not in x]\n",
        "len(cat_feats)"
      ],
      "execution_count": 0,
      "outputs": [
        {
          "output_type": "execute_result",
          "data": {
            "text/plain": [
              "151"
            ]
          },
          "metadata": {
            "tags": []
          },
          "execution_count": 11
        }
      ]
    },
    {
      "cell_type": "code",
      "metadata": {
        "id": "Cqs2jCV5pJ0u",
        "colab_type": "code",
        "outputId": "ab737fb9-a57e-40e4-c38c-99d9f8e08ddf",
        "colab": {
          "base_uri": "https://localhost:8080/",
          "height": 34
        }
      },
      "source": [
        "def run_model (model, feats):\n",
        "  X = df[feats].values\n",
        "  y = df['price_value'].values\n",
        "\n",
        "\n",
        "  # model = DecisionTreeRegressor(max_depth=5)\n",
        "  scores = cross_val_score(model, X, y, cv=3, scoring='neg_mean_absolute_error')\n",
        "\n",
        "  return np.mean(scores), np.std(scores)\n",
        "\n",
        "\n",
        "run_model(DecisionTreeRegressor(max_depth=5), cat_feats )"
      ],
      "execution_count": 0,
      "outputs": [
        {
          "output_type": "execute_result",
          "data": {
            "text/plain": [
              "(-19695.13091100928, 148.72570644015792)"
            ]
          },
          "metadata": {
            "tags": []
          },
          "execution_count": 15
        }
      ]
    },
    {
      "cell_type": "markdown",
      "metadata": {
        "id": "etjWiChHrj0l",
        "colab_type": "text"
      },
      "source": [
        "##DecisionTree\n"
      ]
    },
    {
      "cell_type": "code",
      "metadata": {
        "id": "wa6Wh0LlqAOO",
        "colab_type": "code",
        "outputId": "cc1ad397-ecfa-4a59-cbef-7e28836b94e7",
        "colab": {
          "base_uri": "https://localhost:8080/",
          "height": 34
        }
      },
      "source": [
        "run_model(DecisionTreeRegressor(max_depth=5),cat_feats)"
      ],
      "execution_count": 0,
      "outputs": [
        {
          "output_type": "execute_result",
          "data": {
            "text/plain": [
              "(-19695.13091100928, 148.72570644015792)"
            ]
          },
          "metadata": {
            "tags": []
          },
          "execution_count": 16
        }
      ]
    },
    {
      "cell_type": "markdown",
      "metadata": {
        "id": "uNEeqmSZrxJI",
        "colab_type": "text"
      },
      "source": [
        "## Random Forest\n"
      ]
    },
    {
      "cell_type": "code",
      "metadata": {
        "id": "x798OGUVrdvo",
        "colab_type": "code",
        "outputId": "87ea5caf-a3df-4566-a107-2b4d5112b2d9",
        "colab": {
          "base_uri": "https://localhost:8080/",
          "height": 34
        }
      },
      "source": [
        "model = RandomForestRegressor(max_depth=5,n_estimators=50,random_state=0)\n",
        "run_model(model,cat_feats)"
      ],
      "execution_count": 0,
      "outputs": [
        {
          "output_type": "execute_result",
          "data": {
            "text/plain": [
              "(-18718.657185256638, 64.5424578125788)"
            ]
          },
          "metadata": {
            "tags": []
          },
          "execution_count": 17
        }
      ]
    },
    {
      "cell_type": "markdown",
      "metadata": {
        "id": "CpHvDdursQ9H",
        "colab_type": "text"
      },
      "source": [
        "## XGBoost"
      ]
    },
    {
      "cell_type": "code",
      "metadata": {
        "id": "tSPO4X8bsK0b",
        "colab_type": "code",
        "outputId": "8874c9a0-5d4e-416e-853d-9839e764f452",
        "colab": {
          "base_uri": "https://localhost:8080/",
          "height": 105
        }
      },
      "source": [
        "xgb_params = {\n",
        "    'max_depth': 5,\n",
        "    'n_estimators':50,\n",
        "    'learning_rate': 0.1, \n",
        "    'seed': 0\n",
        "}\n",
        "\n",
        "model = xgb.XGBRegressor(**xgb_params)\n",
        "run_model(model, cat_feats )"
      ],
      "execution_count": 0,
      "outputs": [
        {
          "output_type": "stream",
          "text": [
            "[21:58:06] WARNING: /workspace/src/objective/regression_obj.cu:152: reg:linear is now deprecated in favor of reg:squarederror.\n",
            "[21:58:27] WARNING: /workspace/src/objective/regression_obj.cu:152: reg:linear is now deprecated in favor of reg:squarederror.\n",
            "[21:58:47] WARNING: /workspace/src/objective/regression_obj.cu:152: reg:linear is now deprecated in favor of reg:squarederror.\n"
          ],
          "name": "stdout"
        },
        {
          "output_type": "execute_result",
          "data": {
            "text/plain": [
              "(-13108.379065811214, 74.32158265003798)"
            ]
          },
          "metadata": {
            "tags": []
          },
          "execution_count": 19
        }
      ]
    },
    {
      "cell_type": "code",
      "metadata": {
        "id": "tDiLU2wJtAjq",
        "colab_type": "code",
        "outputId": "da94152a-108f-4ee1-eceb-07da5274668d",
        "colab": {
          "base_uri": "https://localhost:8080/",
          "height": 428
        }
      },
      "source": [
        "m = xgb.XGBRegressor(**xgb_params)\n",
        "m.fit (X,y,)\n",
        "\n",
        "imp = PermutationImportance(m, random_state=2020).fit(X,y)\n",
        "eli5.show_weights(m, feature_names=cat_feats)"
      ],
      "execution_count": 0,
      "outputs": [
        {
          "output_type": "stream",
          "text": [
            "[22:00:36] WARNING: /workspace/src/objective/regression_obj.cu:152: reg:linear is now deprecated in favor of reg:squarederror.\n"
          ],
          "name": "stdout"
        },
        {
          "output_type": "execute_result",
          "data": {
            "text/html": [
              "\n",
              "    <style>\n",
              "    table.eli5-weights tr:hover {\n",
              "        filter: brightness(85%);\n",
              "    }\n",
              "</style>\n",
              "\n",
              "\n",
              "\n",
              "    \n",
              "\n",
              "    \n",
              "\n",
              "    \n",
              "\n",
              "    \n",
              "\n",
              "    \n",
              "\n",
              "    \n",
              "\n",
              "\n",
              "    \n",
              "\n",
              "    \n",
              "\n",
              "    \n",
              "\n",
              "    \n",
              "\n",
              "    \n",
              "\n",
              "    \n",
              "\n",
              "\n",
              "    \n",
              "\n",
              "    \n",
              "\n",
              "    \n",
              "\n",
              "    \n",
              "\n",
              "    \n",
              "        <table class=\"eli5-weights eli5-feature-importances\" style=\"border-collapse: collapse; border: none; margin-top: 0em; table-layout: auto;\">\n",
              "    <thead>\n",
              "    <tr style=\"border: none;\">\n",
              "        <th style=\"padding: 0 1em 0 0.5em; text-align: right; border: none;\">Weight</th>\n",
              "        <th style=\"padding: 0 0.5em 0 0.5em; text-align: left; border: none;\">Feature</th>\n",
              "    </tr>\n",
              "    </thead>\n",
              "    <tbody>\n",
              "    \n",
              "        <tr style=\"background-color: hsl(120, 100.00%, 80.00%); border: none;\">\n",
              "            <td style=\"padding: 0 1em 0 0.5em; text-align: right; border: none;\">\n",
              "                0.0951\n",
              "                \n",
              "            </td>\n",
              "            <td style=\"padding: 0 0.5em 0 0.5em; text-align: left; border: none;\">\n",
              "                param_faktura-vat__cat\n",
              "            </td>\n",
              "        </tr>\n",
              "    \n",
              "        <tr style=\"background-color: hsl(120, 100.00%, 80.03%); border: none;\">\n",
              "            <td style=\"padding: 0 1em 0 0.5em; text-align: right; border: none;\">\n",
              "                0.0949\n",
              "                \n",
              "            </td>\n",
              "            <td style=\"padding: 0 0.5em 0 0.5em; text-align: left; border: none;\">\n",
              "                feature_kamera-cofania__cat\n",
              "            </td>\n",
              "        </tr>\n",
              "    \n",
              "        <tr style=\"background-color: hsl(120, 100.00%, 84.36%); border: none;\">\n",
              "            <td style=\"padding: 0 1em 0 0.5em; text-align: right; border: none;\">\n",
              "                0.0669\n",
              "                \n",
              "            </td>\n",
              "            <td style=\"padding: 0 0.5em 0 0.5em; text-align: left; border: none;\">\n",
              "                feature_łopatki-zmiany-biegów__cat\n",
              "            </td>\n",
              "        </tr>\n",
              "    \n",
              "        <tr style=\"background-color: hsl(120, 100.00%, 84.44%); border: none;\">\n",
              "            <td style=\"padding: 0 1em 0 0.5em; text-align: right; border: none;\">\n",
              "                0.0664\n",
              "                \n",
              "            </td>\n",
              "            <td style=\"padding: 0 0.5em 0 0.5em; text-align: left; border: none;\">\n",
              "                param_napęd__cat\n",
              "            </td>\n",
              "        </tr>\n",
              "    \n",
              "        <tr style=\"background-color: hsl(120, 100.00%, 86.20%); border: none;\">\n",
              "            <td style=\"padding: 0 1em 0 0.5em; text-align: right; border: none;\">\n",
              "                0.0560\n",
              "                \n",
              "            </td>\n",
              "            <td style=\"padding: 0 0.5em 0 0.5em; text-align: left; border: none;\">\n",
              "                param_skrzynia-biegów__cat\n",
              "            </td>\n",
              "        </tr>\n",
              "    \n",
              "        <tr style=\"background-color: hsl(120, 100.00%, 88.65%); border: none;\">\n",
              "            <td style=\"padding: 0 1em 0 0.5em; text-align: right; border: none;\">\n",
              "                0.0423\n",
              "                \n",
              "            </td>\n",
              "            <td style=\"padding: 0 0.5em 0 0.5em; text-align: left; border: none;\">\n",
              "                feature_asystent-pasa-ruchu__cat\n",
              "            </td>\n",
              "        </tr>\n",
              "    \n",
              "        <tr style=\"background-color: hsl(120, 100.00%, 88.88%); border: none;\">\n",
              "            <td style=\"padding: 0 1em 0 0.5em; text-align: right; border: none;\">\n",
              "                0.0411\n",
              "                \n",
              "            </td>\n",
              "            <td style=\"padding: 0 0.5em 0 0.5em; text-align: left; border: none;\">\n",
              "                param_stan__cat\n",
              "            </td>\n",
              "        </tr>\n",
              "    \n",
              "        <tr style=\"background-color: hsl(120, 100.00%, 90.50%); border: none;\">\n",
              "            <td style=\"padding: 0 1em 0 0.5em; text-align: right; border: none;\">\n",
              "                0.0329\n",
              "                \n",
              "            </td>\n",
              "            <td style=\"padding: 0 0.5em 0 0.5em; text-align: left; border: none;\">\n",
              "                feature_światła-led__cat\n",
              "            </td>\n",
              "        </tr>\n",
              "    \n",
              "        <tr style=\"background-color: hsl(120, 100.00%, 91.52%); border: none;\">\n",
              "            <td style=\"padding: 0 1em 0 0.5em; text-align: right; border: none;\">\n",
              "                0.0279\n",
              "                \n",
              "            </td>\n",
              "            <td style=\"padding: 0 0.5em 0 0.5em; text-align: left; border: none;\">\n",
              "                feature_bluetooth__cat\n",
              "            </td>\n",
              "        </tr>\n",
              "    \n",
              "        <tr style=\"background-color: hsl(120, 100.00%, 91.87%); border: none;\">\n",
              "            <td style=\"padding: 0 1em 0 0.5em; text-align: right; border: none;\">\n",
              "                0.0263\n",
              "                \n",
              "            </td>\n",
              "            <td style=\"padding: 0 0.5em 0 0.5em; text-align: left; border: none;\">\n",
              "                feature_regulowane-zawieszenie__cat\n",
              "            </td>\n",
              "        </tr>\n",
              "    \n",
              "        <tr style=\"background-color: hsl(120, 100.00%, 92.18%); border: none;\">\n",
              "            <td style=\"padding: 0 1em 0 0.5em; text-align: right; border: none;\">\n",
              "                0.0249\n",
              "                \n",
              "            </td>\n",
              "            <td style=\"padding: 0 0.5em 0 0.5em; text-align: left; border: none;\">\n",
              "                feature_wspomaganie-kierownicy__cat\n",
              "            </td>\n",
              "        </tr>\n",
              "    \n",
              "        <tr style=\"background-color: hsl(120, 100.00%, 92.20%); border: none;\">\n",
              "            <td style=\"padding: 0 1em 0 0.5em; text-align: right; border: none;\">\n",
              "                0.0248\n",
              "                \n",
              "            </td>\n",
              "            <td style=\"padding: 0 0.5em 0 0.5em; text-align: left; border: none;\">\n",
              "                feature_system-start-stop__cat\n",
              "            </td>\n",
              "        </tr>\n",
              "    \n",
              "        <tr style=\"background-color: hsl(120, 100.00%, 92.85%); border: none;\">\n",
              "            <td style=\"padding: 0 1em 0 0.5em; text-align: right; border: none;\">\n",
              "                0.0219\n",
              "                \n",
              "            </td>\n",
              "            <td style=\"padding: 0 0.5em 0 0.5em; text-align: left; border: none;\">\n",
              "                feature_światła-do-jazdy-dziennej__cat\n",
              "            </td>\n",
              "        </tr>\n",
              "    \n",
              "        <tr style=\"background-color: hsl(120, 100.00%, 93.93%); border: none;\">\n",
              "            <td style=\"padding: 0 1em 0 0.5em; text-align: right; border: none;\">\n",
              "                0.0173\n",
              "                \n",
              "            </td>\n",
              "            <td style=\"padding: 0 0.5em 0 0.5em; text-align: left; border: none;\">\n",
              "                feature_światła-xenonowe__cat\n",
              "            </td>\n",
              "        </tr>\n",
              "    \n",
              "        <tr style=\"background-color: hsl(120, 100.00%, 94.40%); border: none;\">\n",
              "            <td style=\"padding: 0 1em 0 0.5em; text-align: right; border: none;\">\n",
              "                0.0154\n",
              "                \n",
              "            </td>\n",
              "            <td style=\"padding: 0 0.5em 0 0.5em; text-align: left; border: none;\">\n",
              "                feature_czujniki-parkowania-przednie__cat\n",
              "            </td>\n",
              "        </tr>\n",
              "    \n",
              "        <tr style=\"background-color: hsl(120, 100.00%, 94.46%); border: none;\">\n",
              "            <td style=\"padding: 0 1em 0 0.5em; text-align: right; border: none;\">\n",
              "                0.0152\n",
              "                \n",
              "            </td>\n",
              "            <td style=\"padding: 0 0.5em 0 0.5em; text-align: left; border: none;\">\n",
              "                param_moc__cat\n",
              "            </td>\n",
              "        </tr>\n",
              "    \n",
              "        <tr style=\"background-color: hsl(120, 100.00%, 94.54%); border: none;\">\n",
              "            <td style=\"padding: 0 1em 0 0.5em; text-align: right; border: none;\">\n",
              "                0.0149\n",
              "                \n",
              "            </td>\n",
              "            <td style=\"padding: 0 0.5em 0 0.5em; text-align: left; border: none;\">\n",
              "                param_rok-produkcji__cat\n",
              "            </td>\n",
              "        </tr>\n",
              "    \n",
              "        <tr style=\"background-color: hsl(120, 100.00%, 94.62%); border: none;\">\n",
              "            <td style=\"padding: 0 1em 0 0.5em; text-align: right; border: none;\">\n",
              "                0.0146\n",
              "                \n",
              "            </td>\n",
              "            <td style=\"padding: 0 0.5em 0 0.5em; text-align: left; border: none;\">\n",
              "                param_pojemność-skokowa__cat\n",
              "            </td>\n",
              "        </tr>\n",
              "    \n",
              "        <tr style=\"background-color: hsl(120, 100.00%, 94.92%); border: none;\">\n",
              "            <td style=\"padding: 0 1em 0 0.5em; text-align: right; border: none;\">\n",
              "                0.0134\n",
              "                \n",
              "            </td>\n",
              "            <td style=\"padding: 0 0.5em 0 0.5em; text-align: left; border: none;\">\n",
              "                feature_asystent-parkowania__cat\n",
              "            </td>\n",
              "        </tr>\n",
              "    \n",
              "        <tr style=\"background-color: hsl(120, 100.00%, 95.27%); border: none;\">\n",
              "            <td style=\"padding: 0 1em 0 0.5em; text-align: right; border: none;\">\n",
              "                0.0121\n",
              "                \n",
              "            </td>\n",
              "            <td style=\"padding: 0 0.5em 0 0.5em; text-align: left; border: none;\">\n",
              "                seller_name__cat\n",
              "            </td>\n",
              "        </tr>\n",
              "    \n",
              "    \n",
              "        \n",
              "            <tr style=\"background-color: hsl(120, 100.00%, 95.27%); border: none;\">\n",
              "                <td colspan=\"2\" style=\"padding: 0 0.5em 0 0.5em; text-align: center; border: none; white-space: nowrap;\">\n",
              "                    <i>&hellip; 131 more &hellip;</i>\n",
              "                </td>\n",
              "            </tr>\n",
              "        \n",
              "    \n",
              "    </tbody>\n",
              "</table>\n",
              "    \n",
              "\n",
              "    \n",
              "\n",
              "\n",
              "    \n",
              "\n",
              "    \n",
              "\n",
              "    \n",
              "\n",
              "    \n",
              "\n",
              "    \n",
              "\n",
              "    \n",
              "\n",
              "\n",
              "\n"
            ],
            "text/plain": [
              "<IPython.core.display.HTML object>"
            ]
          },
          "metadata": {
            "tags": []
          },
          "execution_count": 20
        }
      ]
    },
    {
      "cell_type": "code",
      "metadata": {
        "id": "Uj4K-6FytvG-",
        "colab_type": "code",
        "colab": {}
      },
      "source": [
        "feats = [\n",
        "  'feature_kamera-cofania__cat', \n",
        "  'feature_łopatki-zmiany-biegów__cat', \n",
        "  'param_napęd__cat', \n",
        "  'param_skrzynia-biegów__cat', \n",
        "  'param_faktura-vat__cat', \n",
        "  'feature_asystent-pasa-ruchu__cat', \n",
        "  'param_stan__cat', \n",
        "  'feature_światła-led__cat', \n",
        "  'feature_bluetooth__cat',\n",
        "  'feature_regulowane-zawieszenie__cat', \n",
        "  'feature_wspomaganie-kierownicy__cat', \n",
        "  'feature_system-start-stop__cat', \n",
        "  'feature_światła-do-jazdy-dziennej__cat', \n",
        "  'feature_światła-xenonowe__cat', \n",
        "  'feature_czujniki-parkowania-przednie__cat', \n",
        "  'param_moc__cat', \n",
        "  'param_rok-produkcji__cat', \n",
        "  'param_pojemność-skokowa__cat', \n",
        "  'feature_asystent-parkowania__cat', \n",
        "  'seller_name__cat']"
      ],
      "execution_count": 0,
      "outputs": []
    },
    {
      "cell_type": "code",
      "metadata": {
        "id": "p_KoQRadzwjX",
        "colab_type": "code",
        "outputId": "41b12256-92af-4cbb-d4d3-32d2856b64bd",
        "colab": {
          "base_uri": "https://localhost:8080/",
          "height": 105
        }
      },
      "source": [
        "model = xgb.XGBRegressor(**xgb_params)\n",
        "run_model(model, feats )"
      ],
      "execution_count": 0,
      "outputs": [
        {
          "output_type": "stream",
          "text": [
            "[22:27:04] WARNING: /workspace/src/objective/regression_obj.cu:152: reg:linear is now deprecated in favor of reg:squarederror.\n",
            "[22:27:09] WARNING: /workspace/src/objective/regression_obj.cu:152: reg:linear is now deprecated in favor of reg:squarederror.\n",
            "[22:27:13] WARNING: /workspace/src/objective/regression_obj.cu:152: reg:linear is now deprecated in favor of reg:squarederror.\n"
          ],
          "name": "stdout"
        },
        {
          "output_type": "execute_result",
          "data": {
            "text/plain": [
              "(-14242.8316835859, 148.71839978475074)"
            ]
          },
          "metadata": {
            "tags": []
          },
          "execution_count": 22
        }
      ]
    },
    {
      "cell_type": "code",
      "metadata": {
        "id": "DVwoE_kJzy-8",
        "colab_type": "code",
        "outputId": "bd7b0ef0-982a-4b37-e0c8-33d2631daf66",
        "colab": {
          "base_uri": "https://localhost:8080/",
          "height": 187
        }
      },
      "source": [
        "df['param_rok-produkcji'].unique()"
      ],
      "execution_count": 0,
      "outputs": [
        {
          "output_type": "execute_result",
          "data": {
            "text/plain": [
              "array(['2018', '2011', '2015', '2009', '2017', '2012', '2013', '2007',\n",
              "       '2001', '2016', '2006', '2008', '2004', '1999', '2000', '2010',\n",
              "       '2005', '2002', '1998', '2014', '2003', '1982', '1995', '1997',\n",
              "       '1992', '1993', '1994', '1996', '1989', '1988', '1967', '1987',\n",
              "       '1970', '1959', '1990', '1991', '1974', None, '1975', '1973',\n",
              "       '1953', '1985', '1984', '1986', '1981', '1979', '1960', '1983',\n",
              "       '1978', '1964', '1980', '1972', '1969', '1956', '1966', '1977',\n",
              "       '1962', '1965', '1971', '1963', '1961', '1952', '1949', '1976',\n",
              "       '1937', '1968', '1958', '1955', '1933', '1929', '1957', '1944',\n",
              "       '1954', '1932', '1936', '1947', '1948'], dtype=object)"
            ]
          },
          "metadata": {
            "tags": []
          },
          "execution_count": 23
        }
      ]
    },
    {
      "cell_type": "code",
      "metadata": {
        "id": "H9cQs6b-z8Ta",
        "colab_type": "code",
        "outputId": "5fbb7cd5-5025-4127-ac1d-e791b7ea92bd",
        "colab": {
          "base_uri": "https://localhost:8080/",
          "height": 136
        }
      },
      "source": [
        "\n",
        "df['param_rok-produkcji'] = df['param_rok-produkcji']. map(lambda x: -1 if str(x) == 'None' else int(x))\n",
        "df['param_rok-produkcji'].unique()"
      ],
      "execution_count": 0,
      "outputs": [
        {
          "output_type": "execute_result",
          "data": {
            "text/plain": [
              "array([2018, 2011, 2015, 2009, 2017, 2012, 2013, 2007, 2001, 2016, 2006,\n",
              "       2008, 2004, 1999, 2000, 2010, 2005, 2002, 1998, 2014, 2003, 1982,\n",
              "       1995, 1997, 1992, 1993, 1994, 1996, 1989, 1988, 1967, 1987, 1970,\n",
              "       1959, 1990, 1991, 1974,   -1, 1975, 1973, 1953, 1985, 1984, 1986,\n",
              "       1981, 1979, 1960, 1983, 1978, 1964, 1980, 1972, 1969, 1956, 1966,\n",
              "       1977, 1962, 1965, 1971, 1963, 1961, 1952, 1949, 1976, 1937, 1968,\n",
              "       1958, 1955, 1933, 1929, 1957, 1944, 1954, 1932, 1936, 1947, 1948])"
            ]
          },
          "metadata": {
            "tags": []
          },
          "execution_count": 24
        }
      ]
    },
    {
      "cell_type": "code",
      "metadata": {
        "id": "rz3Rlhjn0BCw",
        "colab_type": "code",
        "outputId": "04a536ed-f26c-41a0-9554-cd0efdd55918",
        "colab": {
          "base_uri": "https://localhost:8080/",
          "height": 105
        }
      },
      "source": [
        "eats = [\n",
        "  'feature_kamera-cofania__cat', \n",
        "  'feature_łopatki-zmiany-biegów__cat', \n",
        "  'param_napęd__cat', \n",
        "  'param_skrzynia-biegów__cat', \n",
        "  'param_faktura-vat__cat', \n",
        "  'feature_asystent-pasa-ruchu__cat', \n",
        "  'param_stan__cat', \n",
        "  'feature_światła-led__cat', \n",
        "  'feature_bluetooth__cat',\n",
        "  'feature_regulowane-zawieszenie__cat', \n",
        "  'feature_wspomaganie-kierownicy__cat', \n",
        "  'feature_system-start-stop__cat', \n",
        "  'feature_światła-do-jazdy-dziennej__cat', \n",
        "  'feature_światła-xenonowe__cat', \n",
        "  'feature_czujniki-parkowania-przednie__cat', \n",
        "  'param_moc__cat', \n",
        "  'param_rok-produkcji', \n",
        "  'param_pojemność-skokowa__cat', \n",
        "  'feature_asystent-parkowania__cat', \n",
        "  'seller_name__cat']\n",
        "\n",
        "model = xgb.XGBRegressor(**xgb_params)\n",
        "run_model(model, feats )"
      ],
      "execution_count": 0,
      "outputs": [
        {
          "output_type": "stream",
          "text": [
            "[22:29:38] WARNING: /workspace/src/objective/regression_obj.cu:152: reg:linear is now deprecated in favor of reg:squarederror.\n",
            "[22:29:42] WARNING: /workspace/src/objective/regression_obj.cu:152: reg:linear is now deprecated in favor of reg:squarederror.\n",
            "[22:29:46] WARNING: /workspace/src/objective/regression_obj.cu:152: reg:linear is now deprecated in favor of reg:squarederror.\n"
          ],
          "name": "stdout"
        },
        {
          "output_type": "execute_result",
          "data": {
            "text/plain": [
              "(-14242.8316835859, 148.71839978475074)"
            ]
          },
          "metadata": {
            "tags": []
          },
          "execution_count": 25
        }
      ]
    },
    {
      "cell_type": "code",
      "metadata": {
        "id": "aAR2QsT90Yjo",
        "colab_type": "code",
        "outputId": "0122ede0-0d27-4edc-8ec3-9fdc05379b98",
        "colab": {
          "base_uri": "https://localhost:8080/",
          "height": 1000
        }
      },
      "source": [
        "\n",
        "df['param_moc'].unique()"
      ],
      "execution_count": 0,
      "outputs": [
        {
          "output_type": "execute_result",
          "data": {
            "text/plain": [
              "array(['90 KM', '115 KM', '262 KM', '110 KM', '310 KM', '105 KM',\n",
              "       '140 KM', '175 KM', '125 KM', '185 KM', '190 KM', '440 KM',\n",
              "       '141 KM', '200 KM', '224 KM', '75 KM', '99 KM', '184 KM', '109 KM',\n",
              "       '233 KM', '116 KM', '68 KM', '286 KM', '126 KM', '160 KM',\n",
              "       '135 KM', '120 KM', '272 KM', None, '150 KM', '180 KM', '136 KM',\n",
              "       '102 KM', '131 KM', '218 KM', '245 KM', '170 KM', '112 KM',\n",
              "       '250 KM', '252 KM', '73 KM', '100 KM', '313 KM', '101 KM',\n",
              "       '285 KM', '70 KM', '383 KM', '174 KM', '277 KM', '132 KM',\n",
              "       '130 KM', '215 KM', '60 KM', '330 KM', '163 KM', '177 KM', '98 KM',\n",
              "       '78 KM', '189 KM', '156 KM', '143 KM', '69 KM', '113 KM', '65 KM',\n",
              "       '122 KM', '82 KM', '251 KM', '95 KM', '197 KM', '235 KM', '238 KM',\n",
              "       '171 KM', '381 KM', '400 KM', '178 KM', '80 KM', '165 KM', '85 KM',\n",
              "       '258 KM', '142 KM', '204 KM', '124 KM', '55 KM', '144 KM',\n",
              "       '231 KM', '248 KM', '152 KM', '181 KM', '210 KM', '340 KM',\n",
              "       '129 KM', '147 KM', '50 KM', '54 KM', '290 KM', '306 KM', '193 KM',\n",
              "       '77 KM', '164 KM', '96 KM', '194 KM', '111 KM', '166 KM', '206 KM',\n",
              "       '118 KM', '360 KM', '211 KM', '271 KM', '455 KM', '280 KM',\n",
              "       '106 KM', '114 KM', '421 KM', '74 KM', '213 KM', '121 KM',\n",
              "       '275 KM', '435 KM', '384 KM', '326 KM', '88 KM', '220 KM',\n",
              "       '260 KM', '64 KM', '86 KM', '128 KM', '256 KM', '240 KM', '244 KM',\n",
              "       '162 KM', '237 KM', '350 KM', '35 KM', '265 KM', '202 KM',\n",
              "       '133 KM', '83 KM', '117 KM', '146 KM', '92 KM', '192 KM', '145 KM',\n",
              "       '525 KM', '254 KM', '182 KM', '328 KM', '367 KM', '148 KM',\n",
              "       '456 KM', '97 KM', '270 KM', '107 KM', '108 KM', '203 KM',\n",
              "       '155 KM', '94 KM', '93 KM', '241 KM', '20 KM', '71 KM', '173 KM',\n",
              "       '58 KM', '205 KM', '236 KM', '1 400 KM', '557 KM', '84 KM',\n",
              "       '457 KM', '72 KM', '295 KM', '134 KM', '425 KM', '228 KM', '81 KM',\n",
              "       '230 KM', '201 KM', '87 KM', '234 KM', '299 KM', '585 KM',\n",
              "       '209 KM', '370 KM', '6 600 KM', '305 KM', '382 KM', '560 KM',\n",
              "       '158 KM', '176 KM', '320 KM', '225 KM', '62 KM', '255 KM',\n",
              "       '300 KM', '354 KM', '45 KM', '420 KM', '510 KM', '243 KM',\n",
              "       '239 KM', '468 KM', '409 KM', '24 KM', '335 KM', '605 KM',\n",
              "       '410 KM', '416 KM', '183 KM', '303 KM', '59 KM', '4 KM', '283 KM',\n",
              "       '385 KM', '104 KM', '127 KM', '278 KM', '344 KM', '365 KM',\n",
              "       '333 KM', '680 KM', '161 KM', '195 KM', '214 KM', '66 KM',\n",
              "       '170 000 KM', '219 KM', '89 KM', '41 KM', '249 KM', '388 KM',\n",
              "       '103 KM', '217 KM', '570 KM', '625 KM', '364 KM', '450 KM',\n",
              "       '138 KM', '253 KM', '67 KM', '157 KM', '405 KM', '517 KM',\n",
              "       '319 KM', '612 KM', '188 KM', '710 KM', '274 KM', '186 KM',\n",
              "       '139 KM', '11 000 KM', '1 006 KM', '153 KM', '1 430 KM', '323 KM',\n",
              "       '430 KM', '329 KM', '196 KM', '57 KM', '507 KM', '207 KM',\n",
              "       '489 KM', '460 KM', '408 KM', '308 KM', '359 KM', '312 KM',\n",
              "       '179 600 KM', '149 KM', '550 KM', '520 KM', '380 KM', '297 KM',\n",
              "       '347 KM', '259 KM', '212 KM', '343 KM', '309 KM', '53 KM',\n",
              "       '169 KM', '208 KM', '76 KM', '449 KM', '47 KM', '338 KM',\n",
              "       '1 995 KM', '470 KM', '151 KM', '168 KM', '600 KM', '660 KM',\n",
              "       '48 KM', '264 KM', '315 KM', '232 KM', '63 KM', '630 KM', '51 KM',\n",
              "       '1 156 KM', '351 KM', '442 KM', '191 KM', '5 KM', '91 KM', '21 KM',\n",
              "       '407 KM', '284 KM', '346 KM', '717 KM', '276 KM', '431 KM',\n",
              "       '179 KM', '223 KM', '40 KM', '325 KM', '11 KM', '268 KM', '640 KM',\n",
              "       '292 KM', '1 KM', '316 KM', '477 KM', '11 555 KM', '167 KM',\n",
              "       '390 KM', '226 KM', '317 KM', '172 KM', '187 KM', '1 005 KM',\n",
              "       '500 KM', '6 934 KM', '289 KM', '345 KM', '558 KM', '267 KM',\n",
              "       '540 KM', '9 KM', '279 KM', '334 KM', '137 KM', '287 KM', '10 KM',\n",
              "       '401 KM', '199 KM', '544 KM', '298 KM', '394 KM', '780 KM',\n",
              "       '123 KM', '530 KM', '426 KM', '307 KM', '222 KM', '79 KM',\n",
              "       '399 KM', '263 KM', '327 KM', '610 KM', '198 KM', '1 998 KM',\n",
              "       '404 KM', '30 KM', '502 KM', '469 KM', '1 122 KM', '3 KM',\n",
              "       '386 KM', '61 KM', '154 KM', '428 KM', '269 KM', '10 731 KM',\n",
              "       '311 KM', '480 KM', '376 KM', '519 KM', '361 KM', '770 KM',\n",
              "       '453 KM', '1 600 KM', '281 KM', '294 KM', '441 KM', '332 KM',\n",
              "       '247 KM', '227 KM', '800 KM', '288 KM', '337 KM', '324 KM',\n",
              "       '362 KM', '23 KM', '242 KM', '357 KM', '39 KM', '575 KM', '998 KM',\n",
              "       '273 KM', '8 KM', '56 KM', '119 KM', '462 KM', '43 KM', '355 KM',\n",
              "       '52 KM', '387 KM', '566 KM', '12 KM', '439 KM', '352 KM', '422 KM',\n",
              "       '296 KM', '304 KM', '555 KM', '551 KM', '485 KM', '42 KM',\n",
              "       '397 KM', '221 KM', '348 KM', '432 KM', '37 KM', '349 KM',\n",
              "       '302 KM', '356 KM', '2 100 KM', '476 KM', '975 KM', '369 KM',\n",
              "       '486 KM', '246 KM', '3 700 KM', '372 KM', '318 KM', '395 KM',\n",
              "       '514 KM', '14 800 KM', '406 KM', '412 KM', '8 498 KM', '342 KM',\n",
              "       '9 000 KM', '1 254 KM', '445 KM', '13 KM', '2 800 KM', '229 KM',\n",
              "       '282 KM', '495 KM', '378 KM', '490 KM', '368 KM', '472 KM',\n",
              "       '375 KM', '7 500 KM', '363 KM', '650 KM', '159 KM', '1 110 KM',\n",
              "       '44 KM', '434 KM', '571 KM', '543 848 KM', '707 KM', '301 KM',\n",
              "       '2 000 KM', '216 KM', '1 100 KM', '36 KM', '266 KM', '2 300 KM',\n",
              "       '609 KM', '46 KM', '1 116 KM', '1 300 KM', '900 KM', '339 KM',\n",
              "       '475 KM', '573 KM', '565 KM', '396 KM', '8 500 KM', '465 KM',\n",
              "       '685 KM', '437 KM', '257 KM', '5 100 KM', '371 KM', '2 938 KM',\n",
              "       '492 KM', '411 KM', '526 KM', '27 KM', '549 KM', '12 648 KM',\n",
              "       '261 KM', '177 000 KM', '10 000 KM', '293 KM', '1 984 KM',\n",
              "       '740 KM', '2 018 KM', '175 000 KM', '1 900 KM', '1 360 KM',\n",
              "       '581 KM', '1 781 KM', '28 KM', '174 000 KM', '501 KM', '504 KM',\n",
              "       '31 KM', '84 800 KM', '1 991 KM', '466 KM', '576 KM', '9 600 KM',\n",
              "       '415 KM', '7 700 KM', '10 500 KM', '1 198 KM', '799 KM', '18 KM',\n",
              "       '447 KM', '366 KM', '15 KM', '2 465 KM', '580 KM', '1 136 KM',\n",
              "       '670 KM', '136 000 KM', '11 200 KM', '590 KM', '564 KM',\n",
              "       '1 000 KM', '1 500 KM', '38 KM', '291 KM', '2 840 KM', '700 KM',\n",
              "       '2 311 KM', '1 424 KM', '745 KM', '14 KM', '321 KM', '436 KM',\n",
              "       '314 KM', '584 KM', '336 KM', '25 KM', '140 000 KM', '531 KM',\n",
              "       '2 KM', '1 540 KM', '529 KM', '467 KM', '478 KM', '8 568 KM',\n",
              "       '322 KM', '140 105 KM'], dtype=object)"
            ]
          },
          "metadata": {
            "tags": []
          },
          "execution_count": 26
        }
      ]
    },
    {
      "cell_type": "code",
      "metadata": {
        "id": "gt5xuDdN0tBx",
        "colab_type": "code",
        "outputId": "3fadb280-b882-4ee0-eb49-b9b0d16c53df",
        "colab": {
          "base_uri": "https://localhost:8080/",
          "height": 680
        }
      },
      "source": [
        "df['param_moc'] = df['param_moc']. map(lambda x: -1 if str(x) == 'None' else int(x.split(' ')[0])) #    ||-1 if str(x) == 'None' else int(x))\n",
        "df['param_moc'].unique()"
      ],
      "execution_count": 0,
      "outputs": [
        {
          "output_type": "execute_result",
          "data": {
            "text/plain": [
              "array([ 90, 115, 262, 110, 310, 105, 140, 175, 125, 185, 190, 440, 141,\n",
              "       200, 224,  75,  99, 184, 109, 233, 116,  68, 286, 126, 160, 135,\n",
              "       120, 272,  -1, 150, 180, 136, 102, 131, 218, 245, 170, 112, 250,\n",
              "       252,  73, 100, 313, 101, 285,  70, 383, 174, 277, 132, 130, 215,\n",
              "        60, 330, 163, 177,  98,  78, 189, 156, 143,  69, 113,  65, 122,\n",
              "        82, 251,  95, 197, 235, 238, 171, 381, 400, 178,  80, 165,  85,\n",
              "       258, 142, 204, 124,  55, 144, 231, 248, 152, 181, 210, 340, 129,\n",
              "       147,  50,  54, 290, 306, 193,  77, 164,  96, 194, 111, 166, 206,\n",
              "       118, 360, 211, 271, 455, 280, 106, 114, 421,  74, 213, 121, 275,\n",
              "       435, 384, 326,  88, 220, 260,  64,  86, 128, 256, 240, 244, 162,\n",
              "       237, 350,  35, 265, 202, 133,  83, 117, 146,  92, 192, 145, 525,\n",
              "       254, 182, 328, 367, 148, 456,  97, 270, 107, 108, 203, 155,  94,\n",
              "        93, 241,  20,  71, 173,  58, 205, 236,   1, 557,  84, 457,  72,\n",
              "       295, 134, 425, 228,  81, 230, 201,  87, 234, 299, 585, 209, 370,\n",
              "         6, 305, 382, 560, 158, 176, 320, 225,  62, 255, 300, 354,  45,\n",
              "       420, 510, 243, 239, 468, 409,  24, 335, 605, 410, 416, 183, 303,\n",
              "        59,   4, 283, 385, 104, 127, 278, 344, 365, 333, 680, 161, 195,\n",
              "       214,  66, 219,  89,  41, 249, 388, 103, 217, 570, 625, 364, 450,\n",
              "       138, 253,  67, 157, 405, 517, 319, 612, 188, 710, 274, 186, 139,\n",
              "        11, 153, 323, 430, 329, 196,  57, 507, 207, 489, 460, 408, 308,\n",
              "       359, 312, 179, 149, 550, 520, 380, 297, 347, 259, 212, 343, 309,\n",
              "        53, 169, 208,  76, 449,  47, 338, 470, 151, 168, 600, 660,  48,\n",
              "       264, 315, 232,  63, 630,  51, 351, 442, 191,   5,  91,  21, 407,\n",
              "       284, 346, 717, 276, 431, 223,  40, 325, 268, 640, 292, 316, 477,\n",
              "       167, 390, 226, 317, 172, 187, 500, 289, 345, 558, 267, 540,   9,\n",
              "       279, 334, 137, 287,  10, 401, 199, 544, 298, 394, 780, 123, 530,\n",
              "       426, 307, 222,  79, 399, 263, 327, 610, 198, 404,  30, 502, 469,\n",
              "         3, 386,  61, 154, 428, 269, 311, 480, 376, 519, 361, 770, 453,\n",
              "       281, 294, 441, 332, 247, 227, 800, 288, 337, 324, 362,  23, 242,\n",
              "       357,  39, 575, 998, 273,   8,  56, 119, 462,  43, 355,  52, 387,\n",
              "       566,  12, 439, 352, 422, 296, 304, 555, 551, 485,  42, 397, 221,\n",
              "       348, 432,  37, 349, 302, 356,   2, 476, 975, 369, 486, 246, 372,\n",
              "       318, 395, 514,  14, 406, 412, 342, 445,  13, 229, 282, 495, 378,\n",
              "       490, 368, 472, 375,   7, 363, 650, 159,  44, 434, 571, 543, 707,\n",
              "       301, 216,  36, 266, 609,  46, 900, 339, 475, 573, 565, 396, 465,\n",
              "       685, 437, 257, 371, 492, 411, 526,  27, 549, 261, 293, 740, 581,\n",
              "        28, 501, 504,  31, 466, 576, 415, 799,  18, 447, 366,  15, 580,\n",
              "       670, 590, 564,  38, 291, 700, 745, 321, 436, 314, 584, 336,  25,\n",
              "       531, 529, 467, 478, 322])"
            ]
          },
          "metadata": {
            "tags": []
          },
          "execution_count": 27
        }
      ]
    },
    {
      "cell_type": "code",
      "metadata": {
        "id": "6UwxbYeu1NE-",
        "colab_type": "code",
        "outputId": "a8b98cdc-022f-437c-f753-3d0902b869f5",
        "colab": {
          "base_uri": "https://localhost:8080/",
          "height": 105
        }
      },
      "source": [
        "feats = [\n",
        "  'feature_kamera-cofania__cat', \n",
        "  'feature_łopatki-zmiany-biegów__cat', \n",
        "  'param_napęd__cat', \n",
        "  'param_skrzynia-biegów__cat', \n",
        "  'param_faktura-vat__cat', \n",
        "  'feature_asystent-pasa-ruchu__cat', \n",
        "  'param_stan__cat', \n",
        "  'feature_światła-led__cat', \n",
        "  'feature_bluetooth__cat',\n",
        "  'feature_regulowane-zawieszenie__cat', \n",
        "  'feature_wspomaganie-kierownicy__cat', \n",
        "  'feature_system-start-stop__cat', \n",
        "  'feature_światła-do-jazdy-dziennej__cat', \n",
        "  'feature_światła-xenonowe__cat', \n",
        "  'feature_czujniki-parkowania-przednie__cat', \n",
        "  'param_moc', \n",
        "  'param_rok-produkcji', \n",
        "  'param_pojemność-skokowa__cat', \n",
        "  'feature_asystent-parkowania__cat', \n",
        "  'seller_name__cat']\n",
        "\n",
        "model = xgb.XGBRegressor(**xgb_params)\n",
        "run_model(model, feats )"
      ],
      "execution_count": 0,
      "outputs": [
        {
          "output_type": "stream",
          "text": [
            "[22:33:42] WARNING: /workspace/src/objective/regression_obj.cu:152: reg:linear is now deprecated in favor of reg:squarederror.\n",
            "[22:33:46] WARNING: /workspace/src/objective/regression_obj.cu:152: reg:linear is now deprecated in favor of reg:squarederror.\n",
            "[22:33:50] WARNING: /workspace/src/objective/regression_obj.cu:152: reg:linear is now deprecated in favor of reg:squarederror.\n"
          ],
          "name": "stdout"
        },
        {
          "output_type": "execute_result",
          "data": {
            "text/plain": [
              "(-10668.21096354992, 65.60418228047648)"
            ]
          },
          "metadata": {
            "tags": []
          },
          "execution_count": 28
        }
      ]
    },
    {
      "cell_type": "code",
      "metadata": {
        "id": "Jxymg_fr1ULZ",
        "colab_type": "code",
        "outputId": "77b4a801-ba27-471b-f188-2c4c532ddee6",
        "colab": {
          "base_uri": "https://localhost:8080/",
          "height": 51
        }
      },
      "source": [
        "df['param_pojemność-skokowa'].unique()"
      ],
      "execution_count": 0,
      "outputs": [
        {
          "output_type": "execute_result",
          "data": {
            "text/plain": [
              "array(['898 cm3', '1 560 cm3', '3 000 cm3', ..., '5 992 cm3', '1 966 cm3',\n",
              "       '142 280 cm3'], dtype=object)"
            ]
          },
          "metadata": {
            "tags": []
          },
          "execution_count": 29
        }
      ]
    },
    {
      "cell_type": "code",
      "metadata": {
        "id": "zMDJDqze1cQz",
        "colab_type": "code",
        "outputId": "953ab47e-a776-4ee9-d002-818776bb97eb",
        "colab": {
          "base_uri": "https://localhost:8080/",
          "height": 34
        }
      },
      "source": [
        "df['param_pojemność-skokowa'] = df['param_pojemność-skokowa'].map(lambda x: -1 if str(x) == 'None' else int(x.split('cm')[0].replace(' ','')))\n",
        "df['param_pojemność-skokowa'].unique()"
      ],
      "execution_count": 0,
      "outputs": [
        {
          "output_type": "execute_result",
          "data": {
            "text/plain": [
              "array([   898,   1560,   3000, ...,   5992,   1966, 142280])"
            ]
          },
          "metadata": {
            "tags": []
          },
          "execution_count": 30
        }
      ]
    },
    {
      "cell_type": "code",
      "metadata": {
        "id": "pkjOkRmB1h9G",
        "colab_type": "code",
        "outputId": "7770c5d0-8386-48d8-bdd4-05d6dcef0c3f",
        "colab": {
          "base_uri": "https://localhost:8080/",
          "height": 105
        }
      },
      "source": [
        "feats = [\n",
        "  'feature_kamera-cofania__cat', \n",
        "  'feature_łopatki-zmiany-biegów__cat', \n",
        "  'param_napęd__cat', \n",
        "  'param_skrzynia-biegów__cat', \n",
        "  'param_faktura-vat__cat', \n",
        "  'feature_asystent-pasa-ruchu__cat', \n",
        "  'param_stan__cat', \n",
        "  'feature_światła-led__cat', \n",
        "  'feature_bluetooth__cat',\n",
        "  'feature_regulowane-zawieszenie__cat', \n",
        "  'feature_wspomaganie-kierownicy__cat', \n",
        "  'feature_system-start-stop__cat', \n",
        "  'feature_światła-do-jazdy-dziennej__cat', \n",
        "  'feature_światła-xenonowe__cat', \n",
        "  'feature_czujniki-parkowania-przednie__cat', \n",
        "  'param_moc', \n",
        "  'param_rok-produkcji', \n",
        "  'param_pojemność-skokowa', \n",
        "  'feature_asystent-parkowania__cat', \n",
        "  'seller_name__cat']\n",
        "\n",
        "model = xgb.XGBRegressor(**xgb_params)\n",
        "run_model(model, feats )\n"
      ],
      "execution_count": 0,
      "outputs": [
        {
          "output_type": "stream",
          "text": [
            "[22:35:09] WARNING: /workspace/src/objective/regression_obj.cu:152: reg:linear is now deprecated in favor of reg:squarederror.\n",
            "[22:35:13] WARNING: /workspace/src/objective/regression_obj.cu:152: reg:linear is now deprecated in favor of reg:squarederror.\n",
            "[22:35:17] WARNING: /workspace/src/objective/regression_obj.cu:152: reg:linear is now deprecated in favor of reg:squarederror.\n"
          ],
          "name": "stdout"
        },
        {
          "output_type": "execute_result",
          "data": {
            "text/plain": [
              "(-10418.18729276653, 72.80569459652894)"
            ]
          },
          "metadata": {
            "tags": []
          },
          "execution_count": 31
        }
      ]
    },
    {
      "cell_type": "code",
      "metadata": {
        "id": "f_tsjtZV1pQL",
        "colab_type": "code",
        "colab": {}
      },
      "source": [
        ""
      ],
      "execution_count": 0,
      "outputs": []
    }
  ]
}